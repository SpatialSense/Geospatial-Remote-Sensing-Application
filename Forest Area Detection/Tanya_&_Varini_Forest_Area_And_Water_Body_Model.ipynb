{
  "nbformat": 4,
  "nbformat_minor": 0,
  "metadata": {
    "colab": {
      "provenance": [],
      "include_colab_link": true
    },
    "kernelspec": {
      "name": "python3",
      "display_name": "Python 3"
    }
  },
  "cells": [
    {
      "cell_type": "markdown",
      "metadata": {
        "id": "view-in-github",
        "colab_type": "text"
      },
      "source": [
        "<a href=\"https://colab.research.google.com/github/SpatialSense/Geospatial-Remote-Sensing-Application/blob/main/Tanya_%26_Varini_Forest_Area_And_Water_Body_Model.ipynb\" target=\"_parent\"><img src=\"https://colab.research.google.com/assets/colab-badge.svg\" alt=\"Open In Colab\"/></a>"
      ]
    },
    {
      "cell_type": "code",
      "metadata": {
        "id": "k6Nn89_m7eFi"
      },
      "source": [
        "# Import Python 3 print function\n",
        "from __future__ import print_function\n",
        "\n",
        "# Import OGR -\n",
        "from osgeo import ogr\n",
        "\n",
        "# Open the dataset from the file\n",
        "dataset = ogr.Open('/content/Training.shp')\n",
        "# Make sure the dataset exists -- it would be None if we couldn't open it\n",
        "if not dataset:\n",
        "    print('Error: could not open dataset')"
      ],
      "execution_count": null,
      "outputs": []
    },
    {
      "cell_type": "code",
      "metadata": {
        "id": "CZCW8lKrz9TK",
        "outputId": "c7659f3c-2d69-40b7-9165-145f8987e950",
        "colab": {
          "base_uri": "https://localhost:8080/",
          "height": 34
        }
      },
      "source": [
        "dataset"
      ],
      "execution_count": null,
      "outputs": [
        {
          "output_type": "execute_result",
          "data": {
            "text/plain": [
              "<osgeo.ogr.DataSource; proxy of <Swig Object of type 'OGRDataSourceShadow *' at 0x7f320832e0f0> >"
            ]
          },
          "metadata": {
            "tags": []
          },
          "execution_count": 5
        }
      ]
    },
    {
      "cell_type": "code",
      "metadata": {
        "id": "L21CshlZEX8-",
        "outputId": "e4178e82-5c34-44ef-d196-a5c078f41690",
        "colab": {
          "base_uri": "https://localhost:8080/",
          "height": 194
        }
      },
      "source": [
        "!pip install pyshp"
      ],
      "execution_count": null,
      "outputs": [
        {
          "output_type": "stream",
          "text": [
            "Collecting pyshp\n",
            "\u001b[?25l  Downloading https://files.pythonhosted.org/packages/27/16/3bf15aa864fb77845fab8007eda22c2bd67bd6c1fd13496df452c8c43621/pyshp-2.1.0.tar.gz (215kB)\n",
            "\r\u001b[K     |█▌                              | 10kB 19.1MB/s eta 0:00:01\r\u001b[K     |███                             | 20kB 3.3MB/s eta 0:00:01\r\u001b[K     |████▋                           | 30kB 4.7MB/s eta 0:00:01\r\u001b[K     |██████                          | 40kB 3.1MB/s eta 0:00:01\r\u001b[K     |███████▋                        | 51kB 3.7MB/s eta 0:00:01\r\u001b[K     |█████████▏                      | 61kB 4.4MB/s eta 0:00:01\r\u001b[K     |██████████▋                     | 71kB 5.1MB/s eta 0:00:01\r\u001b[K     |████████████▏                   | 81kB 5.8MB/s eta 0:00:01\r\u001b[K     |█████████████▊                  | 92kB 6.3MB/s eta 0:00:01\r\u001b[K     |███████████████▏                | 102kB 4.9MB/s eta 0:00:01\r\u001b[K     |████████████████▊               | 112kB 4.9MB/s eta 0:00:01\r\u001b[K     |██████████████████▎             | 122kB 4.9MB/s eta 0:00:01\r\u001b[K     |███████████████████▉            | 133kB 4.9MB/s eta 0:00:01\r\u001b[K     |█████████████████████▎          | 143kB 4.9MB/s eta 0:00:01\r\u001b[K     |██████████████████████▉         | 153kB 4.9MB/s eta 0:00:01\r\u001b[K     |████████████████████████▍       | 163kB 4.9MB/s eta 0:00:01\r\u001b[K     |█████████████████████████▉      | 174kB 4.9MB/s eta 0:00:01\r\u001b[K     |███████████████████████████▍    | 184kB 4.9MB/s eta 0:00:01\r\u001b[K     |█████████████████████████████   | 194kB 4.9MB/s eta 0:00:01\r\u001b[K     |██████████████████████████████▍ | 204kB 4.9MB/s eta 0:00:01\r\u001b[K     |████████████████████████████████| 215kB 4.9MB/s eta 0:00:01\r\u001b[K     |████████████████████████████████| 225kB 4.9MB/s \n",
            "\u001b[?25hBuilding wheels for collected packages: pyshp\n",
            "  Building wheel for pyshp (setup.py) ... \u001b[?25l\u001b[?25hdone\n",
            "  Created wheel for pyshp: filename=pyshp-2.1.0-cp36-none-any.whl size=32607 sha256=52f22fd45e5c671199281554ad7d03d8d2ee78aeb04c7ddd143726f6dec76c0b\n",
            "  Stored in directory: /root/.cache/pip/wheels/a6/0c/de/321b5192ad416b328975a2f0385f72c64db4656501eba7cc1a\n",
            "Successfully built pyshp\n",
            "Installing collected packages: pyshp\n",
            "Successfully installed pyshp-2.1.0\n"
          ],
          "name": "stdout"
        }
      ]
    },
    {
      "cell_type": "code",
      "metadata": {
        "id": "gEFGG9kK76FP",
        "outputId": "5d6baab0-a3ae-4e5e-9800-69806a7e287e",
        "colab": {
          "base_uri": "https://localhost:8080/",
          "height": 745
        }
      },
      "source": [
        "%%bash\n",
        "# Remember -- \"%bash\" as seen above just indicates to the IPython notebook that I'm now writing in Bash\n",
        "\n",
        "# Print out metadata about raster -- we include \"-proj4\" to print out the Proj4 projection string\n",
        "gdalinfo /content/fcc_clipped.tif"
      ],
      "execution_count": null,
      "outputs": [
        {
          "output_type": "stream",
          "text": [
            "Driver: GTiff/GeoTIFF\n",
            "Files: /content/fcc_clipped.tif\n",
            "Size is 482, 445\n",
            "Coordinate System is:\n",
            "PROJCS[\"WGS 84 / UTM zone 43N\",\n",
            "    GEOGCS[\"WGS 84\",\n",
            "        DATUM[\"WGS_1984\",\n",
            "            SPHEROID[\"WGS 84\",6378137,298.257223563,\n",
            "                AUTHORITY[\"EPSG\",\"7030\"]],\n",
            "            AUTHORITY[\"EPSG\",\"6326\"]],\n",
            "        PRIMEM[\"Greenwich\",0,\n",
            "            AUTHORITY[\"EPSG\",\"8901\"]],\n",
            "        UNIT[\"degree\",0.0174532925199433,\n",
            "            AUTHORITY[\"EPSG\",\"9122\"]],\n",
            "        AUTHORITY[\"EPSG\",\"4326\"]],\n",
            "    PROJECTION[\"Transverse_Mercator\"],\n",
            "    PARAMETER[\"latitude_of_origin\",0],\n",
            "    PARAMETER[\"central_meridian\",75],\n",
            "    PARAMETER[\"scale_factor\",0.9996],\n",
            "    PARAMETER[\"false_easting\",500000],\n",
            "    PARAMETER[\"false_northing\",0],\n",
            "    UNIT[\"metre\",1,\n",
            "        AUTHORITY[\"EPSG\",\"9001\"]],\n",
            "    AXIS[\"Easting\",EAST],\n",
            "    AXIS[\"Northing\",NORTH],\n",
            "    AUTHORITY[\"EPSG\",\"32643\"]]\n",
            "Origin = (749060.000000000000000,3169480.000000000000000)\n",
            "Pixel Size = (10.000000000000000,-10.000000000000000)\n",
            "Metadata:\n",
            "  AREA_OR_POINT=Area\n",
            "Image Structure Metadata:\n",
            "  INTERLEAVE=PIXEL\n",
            "Corner Coordinates:\n",
            "Upper Left  (  749060.000, 3169480.000) ( 77d32'51.26\"E, 28d37'42.54\"N)\n",
            "Lower Left  (  749060.000, 3165030.000) ( 77d32'47.77\"E, 28d35'18.08\"N)\n",
            "Upper Right (  753880.000, 3169480.000) ( 77d35'48.60\"E, 28d37'39.17\"N)\n",
            "Lower Right (  753880.000, 3165030.000) ( 77d35'45.04\"E, 28d35'14.72\"N)\n",
            "Center      (  751470.000, 3167255.000) ( 77d34'18.17\"E, 28d36'28.64\"N)\n",
            "Band 1 Block=482x1 Type=Float32, ColorInterp=Gray\n",
            "Band 2 Block=482x1 Type=Float32, ColorInterp=Undefined\n",
            "Band 3 Block=482x1 Type=Float32, ColorInterp=Undefined\n"
          ],
          "name": "stdout"
        }
      ]
    },
    {
      "cell_type": "code",
      "metadata": {
        "id": "fbbBVRsjI_vM",
        "outputId": "7c4b0e39-b2ab-4573-fac8-ae29637921f9",
        "colab": {
          "base_uri": "https://localhost:8080/",
          "height": 318
        }
      },
      "source": [
        "driver = dataset.GetDriver()\n",
        "print('Dataset driver is: {n}\\n'.format(n=driver.name))\n",
        "layer_count = dataset.GetLayerCount()\n",
        "print('The shapefile has {n} layer(s)\\n'.format(n=layer_count))\n",
        "\n",
        "### What is the name of the 1 layer?\n",
        "layer = dataset.GetLayerByIndex(0)\n",
        "print('The layer is named: {n}\\n'.format(n=layer.GetName()))\n",
        "\n",
        "### What is the layer's geometry? is it a point? a polyline? a polygon?\n",
        "# First read in the geometry - but this is the enumerated type's value\n",
        "geometry = layer.GetGeomType()\n",
        "print(geometry)\n",
        "# So we need to translate it to the name of the enum\n",
        "geometry_name = ogr.GeometryTypeToName(geometry)\n",
        "print(\"The layer's geometry is: {geom}\\n\".format(geom=geometry_name))\n",
        "\n",
        "### What is the layer's projection?\n",
        "# Get the spatial reference\n",
        "spatial_ref = layer.GetSpatialRef()\n",
        "\n",
        "# Export this spatial reference to something we can read... like the Proj4\n",
        "proj4 = spatial_ref.ExportToProj4()\n",
        "print('Layer projection is: {proj4}\\n'.format(proj4=proj4))\n",
        "\n",
        "### How many features are in the layer?\n",
        "feature_count = layer.GetFeatureCount()\n",
        "print('Layer has {n} features\\n'.format(n=feature_count))\n",
        "\n",
        "### How many fields are in the shapefile, and what are their names?\n",
        "# First we need to capture the layer definition\n",
        "defn = layer.GetLayerDefn()\n",
        "\n",
        "# How many fields\n",
        "field_count = defn.GetFieldCount()\n",
        "print('Layer has {n} fields'.format(n=field_count))\n",
        "\n",
        "# What are their names?\n",
        "print('Their names are: ')\n",
        "for i in range(field_count):\n",
        "    field_defn = defn.GetFieldDefn(i)\n",
        "    print('\\t{name} - {datatype}'.format(name=field_defn.GetName(),\n",
        "                                         datatype=field_defn.GetTypeName()))"
      ],
      "execution_count": null,
      "outputs": [
        {
          "output_type": "stream",
          "text": [
            "Dataset driver is: ESRI Shapefile\n",
            "\n",
            "The shapefile has 1 layer(s)\n",
            "\n",
            "The layer is named: Training\n",
            "\n",
            "3\n",
            "The layer's geometry is: Polygon\n",
            "\n",
            "Layer projection is: +proj=longlat +datum=WGS84 +no_defs \n",
            "\n",
            "Layer has 28 features\n",
            "\n",
            "Layer has 2 fields\n",
            "Their names are: \n",
            "\tid - Integer64\n",
            "\tcrop_name - String\n"
          ],
          "name": "stdout"
        }
      ]
    },
    {
      "cell_type": "code",
      "metadata": {
        "id": "sd13_LMV3ge1",
        "outputId": "007ba4af-1af8-4d06-9e68-5cedafa89684",
        "colab": {
          "base_uri": "https://localhost:8080/",
          "height": 34
        }
      },
      "source": [
        "layer"
      ],
      "execution_count": null,
      "outputs": [
        {
          "output_type": "execute_result",
          "data": {
            "text/plain": [
              "<osgeo.ogr.Layer; proxy of <Swig Object of type 'OGRLayerShadow *' at 0x7f27442af120> >"
            ]
          },
          "metadata": {
            "tags": []
          },
          "execution_count": 3
        }
      ]
    },
    {
      "cell_type": "code",
      "metadata": {
        "id": "I-y5R3ucvi_j",
        "outputId": "fe44161d-c5a7-4365-b3a1-a5e6b006a342",
        "colab": {
          "base_uri": "https://localhost:8080/",
          "height": 176
        }
      },
      "source": [
        "%%bash\n",
        "\n",
        "# Print out the usage\n",
        "gdal_rasterize --help"
      ],
      "execution_count": null,
      "outputs": [
        {
          "output_type": "stream",
          "text": [
            "Usage: gdal_rasterize [-b band]* [-i] [-at]\n",
            "       {[-burn value]* | [-a attribute_name] | [-3d]} [-add]\n",
            "       [-l layername]* [-where expression] [-sql select_statement]\n",
            "       [-dialect dialect] [-of format] [-a_srs srs_def]\n",
            "       [-co \"NAME=VALUE\"]* [-a_nodata value] [-init value]*\n",
            "       [-te xmin ymin xmax ymax] [-tr xres yres] [-tap] [-ts width height]\n",
            "       [-ot {Byte/Int16/UInt16/UInt32/Int32/Float32/Float64/\n",
            "             CInt16/CInt32/CFloat32/CFloat64}] [-q]\n",
            "       <src_datasource> <dst_filename>\n"
          ],
          "name": "stdout"
        }
      ]
    },
    {
      "cell_type": "code",
      "metadata": {
        "id": "JfOAlF_2vrqQ",
        "outputId": "0045960d-bc76-48f3-edfb-f0baa2fde22f",
        "colab": {
          "base_uri": "https://localhost:8080/",
          "height": 34
        }
      },
      "source": [
        "%%bash\n",
        "\n",
        "# Explanation of switches:\n",
        "# -a ==> write values from the\"id\" attribute of the shapefile\n",
        "# -layer ==> the layer name of our shapefile\n",
        "# -of ==> Output raster file format\n",
        "# -a_srs ==> output spatial reference system string\n",
        "# -a_nodata ==> NODATA value for output raster\n",
        "# -te ==> target extent which matches the raster we want to create the ROI image for\n",
        "# -tr ==> target resolution, 30 x 30m\n",
        "# -ot Byte ==> Since we only have values 0 - 5, a Byte datatype is enough\n",
        "\n",
        "gdal_rasterize -a \"id\" \\\n",
        "    -l Training \\\n",
        "    -of \"GTiff\" \\\n",
        "    -a_srs \"+proj=utm +zone=15 +datum=WGS84 +units=m +no_defs\" \\\n",
        "    -a_nodata 0 \\\n",
        "    -te 462405 1734315 469905 1741815 \\\n",
        "    -tr 30 30 \\\n",
        "    -ot Byte \\\n",
        "     /content/Training.shp /content/Training.gtif"
      ],
      "execution_count": null,
      "outputs": [
        {
          "output_type": "stream",
          "text": [
            "0...10...20...30...40...50...60...70...80...90...100 - done.\n"
          ],
          "name": "stdout"
        }
      ]
    },
    {
      "cell_type": "code",
      "metadata": {
        "id": "Td2XSB3Q5Tps",
        "outputId": "53a462e9-e5c2-4673-dbef-1fb25ac40615",
        "colab": {
          "base_uri": "https://localhost:8080/",
          "height": 34
        }
      },
      "source": [
        "# Import GDAL\n",
        "from osgeo import gdal\n",
        "\n",
        "# First we will open our raster image, to understand how we will want to rasterize our vector\n",
        "raster_ds = gdal.Open('/content/fcc_clipped.tif', gdal.GA_ReadOnly)\n",
        "\n",
        "# Fetch number of rows and columns\n",
        "ncol = raster_ds.RasterXSize\n",
        "nrow = raster_ds.RasterYSize\n",
        "\n",
        "# Fetch projection and extent\n",
        "proj = raster_ds.GetProjectionRef()\n",
        "ext = raster_ds.GetGeoTransform()\n",
        "\n",
        "raster_ds = None\n",
        "\n",
        "# Create the raster dataset\n",
        "memory_driver = gdal.GetDriverByName('GTiff')\n",
        "out_raster_ds = memory_driver.Create('/content/Training.gtif', ncol, nrow, 1, gdal.GDT_Byte)\n",
        "\n",
        "# Set the ROI image's projection and extent to our input raster's projection and extent\n",
        "out_raster_ds.SetProjection(proj)\n",
        "out_raster_ds.SetGeoTransform(ext)\n",
        "\n",
        "# Fill our output band with the 0 blank, no class label, value\n",
        "b = out_raster_ds.GetRasterBand(1)\n",
        "b.Fill(0)\n",
        "\n",
        "# Rasterize the shapefile layer to our new dataset\n",
        "status = gdal.RasterizeLayer(out_raster_ds,  # output to our new dataset\n",
        "                             [1],  # output to our new dataset's first band\n",
        "                             layer,  # rasterize this layer\n",
        "                             None, None,  # don't worry about transformations since we're in same projection\n",
        "                             [0],  # burn value 0\n",
        "                             ['ALL_TOUCHED=TRUE',  # rasterize all pixels touched by polygons\n",
        "                              'ATTRIBUTE=id']  # put raster values according to the 'id' field values\n",
        "                             )\n",
        "\n",
        "# Close dataset\n",
        "out_raster_ds = None\n",
        "\n",
        "if status != 0:\n",
        "    print(\"I don't think it worked...\")\n",
        "else:\n",
        "    print(\"Success\")"
      ],
      "execution_count": null,
      "outputs": [
        {
          "output_type": "stream",
          "text": [
            "Success\n"
          ],
          "name": "stdout"
        }
      ]
    },
    {
      "cell_type": "code",
      "metadata": {
        "id": "hOWPdmFl6nZX",
        "outputId": "8da0b1ff-8fbc-4f04-bdfc-37d6d3ae96a9",
        "colab": {
          "base_uri": "https://localhost:8080/",
          "height": 123
        }
      },
      "source": [
        "# Import NumPy for some statistics\n",
        "import numpy as np\n",
        "\n",
        "roi_ds = gdal.Open('/content/Training.gtif', gdal.GA_ReadOnly)\n",
        "\n",
        "roi = roi_ds.GetRasterBand(1).ReadAsArray()\n",
        "\n",
        "# How many pixels are in each class?\n",
        "classes = np.unique(roi)\n",
        "# Iterate over all class labels in the ROI image, printing out some information\n",
        "for c in classes:\n",
        "    print('Class {c} contains {n} pixels'.format(c=c,\n",
        "                                                 n=(roi == c).sum()))"
      ],
      "execution_count": null,
      "outputs": [
        {
          "output_type": "stream",
          "text": [
            "Class 0 contains 211978 pixels\n",
            "Class 1 contains 1105 pixels\n",
            "Class 2 contains 572 pixels\n",
            "Class 3 contains 609 pixels\n",
            "Class 4 contains 151 pixels\n",
            "Class 5 contains 75 pixels\n"
          ],
          "name": "stdout"
        }
      ]
    },
    {
      "cell_type": "code",
      "metadata": {
        "id": "yotb7vcx7B8U",
        "outputId": "400890f0-b076-4e58-ed16-6289ea652b17",
        "colab": {
          "base_uri": "https://localhost:8080/",
          "height": 257
        }
      },
      "source": [
        "# Import Python 3's print function and division\n",
        "from __future__ import print_function, division\n",
        "\n",
        "# Import GDAL, NumPy, and matplotlib\n",
        "from osgeo import gdal, gdal_array\n",
        "import numpy as np\n",
        "import matplotlib.pyplot as plt\n",
        "%matplotlib inline\n",
        "\n",
        "# Tell GDAL to throw Python exceptions, and register all drivers\n",
        "gdal.UseExceptions()\n",
        "gdal.AllRegister()\n",
        "\n",
        "# Read in our image and ROI image\n",
        "img_ds = gdal.Open('/content/fcc_clipped.tif', gdal.GA_ReadOnly)\n",
        "roi_ds = gdal.Open('/content/Training.gtif', gdal.GA_ReadOnly)\n",
        "#test_di=gdal.Open('/content/Training.gtif', gdal.GA_ReadOnly)\n",
        "img = np.zeros((img_ds.RasterYSize, img_ds.RasterXSize, img_ds.RasterCount),\n",
        "               gdal_array.GDALTypeCodeToNumericTypeCode(img_ds.GetRasterBand(1).DataType))\n",
        "for b in range(img.shape[2]):\n",
        "    print(b)\n",
        "\n",
        "    img[:, :, b] = img_ds.GetRasterBand(b + 1).ReadAsArray()\n",
        "\n",
        "roi = roi_ds.GetRasterBand(1).ReadAsArray().astype(np.uint8)\n",
        "#toi = test_di.GetRasterBand(1).ReadAsArray().astype(np.uint8)\n",
        "# Display them\n",
        "plt.subplot(121)\n",
        "plt.imshow(img[:, :, 2], cmap=plt.cm.Greys_r)\n",
        "#plt.imshow(img[:, :, 2])\n",
        "plt.title('SWIR1')\n",
        "\n",
        "plt.subplot(122)\n",
        "plt.imshow(roi, cmap=plt.cm.Spectral)\n",
        "plt.title('ROI Training Data')\n",
        "\n",
        "plt.show()"
      ],
      "execution_count": null,
      "outputs": [
        {
          "output_type": "stream",
          "text": [
            "0\n",
            "1\n",
            "2\n"
          ],
          "name": "stdout"
        },
        {
          "output_type": "display_data",
          "data": {
            "image/png": "[encoded data removed]",
            "text/plain": [
              "<Figure size 432x288 with 2 Axes>"
            ]
          },
          "metadata": {
            "tags": []
          }
        }
      ]
    },
    {
      "cell_type": "code",
      "metadata": {
        "id": "XVqVtLfM96Kt",
        "outputId": "260e0b4a-5c4f-4cd7-8ce4-f7748020d1c0",
        "colab": {
          "base_uri": "https://localhost:8080/",
          "height": 887
        }
      },
      "source": [
        "\n",
        "\n",
        "\n",
        "img"
      ],
      "execution_count": null,
      "outputs": [
        {
          "output_type": "execute_result",
          "data": {
            "text/plain": [
              "array([[[2299., 1216., 1402.],\n",
              "        [2205., 1161., 1391.],\n",
              "        [2202., 1136., 1380.],\n",
              "        ...,\n",
              "        [2361., 1087., 1351.],\n",
              "        [2473., 1088., 1365.],\n",
              "        [2310., 1090., 1340.]],\n",
              "\n",
              "       [[2338., 1162., 1362.],\n",
              "        [2160., 1143., 1364.],\n",
              "        [2169., 1128., 1369.],\n",
              "        ...,\n",
              "        [2270., 1077., 1346.],\n",
              "        [2372., 1088., 1370.],\n",
              "        [2309., 1123., 1376.]],\n",
              "\n",
              "       [[2409., 1129., 1377.],\n",
              "        [2328., 1109., 1361.],\n",
              "        [2355., 1113., 1368.],\n",
              "        ...,\n",
              "        [2191., 1067., 1350.],\n",
              "        [2247., 1098., 1356.],\n",
              "        [2269., 1140., 1387.]],\n",
              "\n",
              "       ...,\n",
              "\n",
              "       [[2335., 1191., 1394.],\n",
              "        [2281., 1218., 1410.],\n",
              "        [2246., 1239., 1386.],\n",
              "        ...,\n",
              "        [2232., 1162., 1388.],\n",
              "        [2193., 1175., 1367.],\n",
              "        [2242., 1165., 1388.]],\n",
              "\n",
              "       [[2394., 1178., 1376.],\n",
              "        [2283., 1211., 1389.],\n",
              "        [2189., 1213., 1387.],\n",
              "        ...,\n",
              "        [2265., 1149., 1380.],\n",
              "        [2188., 1156., 1375.],\n",
              "        [2189., 1140., 1376.]],\n",
              "\n",
              "       [[2197., 1223., 1398.],\n",
              "        [2218., 1237., 1398.],\n",
              "        [2282., 1174., 1380.],\n",
              "        ...,\n",
              "        [2361., 1138., 1380.],\n",
              "        [2209., 1138., 1363.],\n",
              "        [2169., 1143., 1365.]]], dtype=float32)"
            ]
          },
          "metadata": {
            "tags": []
          },
          "execution_count": 9
        }
      ]
    },
    {
      "cell_type": "code",
      "metadata": {
        "id": "0dYY6tVE-cjE",
        "outputId": "6747c764-2f34-4ed0-8919-2bb37f50a076",
        "colab": {
          "base_uri": "https://localhost:8080/",
          "height": 123
        }
      },
      "source": [
        "# Find how many non-zero entries we have -- i.e. how many training data samples?\n",
        "n_samples = (roi > 0).sum()\n",
        "print('We have {n} samples'.format(n=n_samples))\n",
        "\n",
        "# What are our classification labels?\n",
        "labels = np.unique(roi[roi > 0])\n",
        "print('The training data include {n} classes: {classes}'.format(n=labels.size,\n",
        "                                                                classes=labels))\n",
        "# We will need a \"X\" matrix containing our features, and a \"y\" array containing our labels\n",
        "#     These will have n_samples rows\n",
        "#     In other languages we would need to allocate these and them loop to fill them, but NumPy can be faster\n",
        "\n",
        "X = img[roi > 0, :]  # include 8th band, which is Fmask, for now\n",
        "y = roi[roi > 0]\n",
        "#z = img[toi > 0]\n",
        "print('Our X matrix is sized: {sz}'.format(sz=X.shape))\n",
        "print('Our y array is sized: {sz}'.format(sz=y.shape))\n",
        "\n",
        "# Mask out clouds, cloud shadows, and snow using Fmask\n",
        "clear = X[:, 2] <= 1\n",
        "#clear = z[:, 2] <=1\n",
        "#X = X[clear, :2]  # we can ditch the Fmask band now\n",
        "#y = y[clear]\n",
        "\n",
        "print('After masking, our X matrix is sized: {sz}'.format(sz=X.shape))\n",
        "#print('After masking, our z array is sized: {sz}'.format(sz=z.shape))\n",
        "print('After masking, our y array is sized: {sz}'.format(sz=y.shape))"
      ],
      "execution_count": null,
      "outputs": [
        {
          "output_type": "stream",
          "text": [
            "We have 2512 samples\n",
            "The training data include 5 classes: [1 2 3 4 5]\n",
            "Our X matrix is sized: (2512, 3)\n",
            "Our y array is sized: (2512,)\n",
            "After masking, our X matrix is sized: (2512, 3)\n",
            "After masking, our y array is sized: (2512,)\n"
          ],
          "name": "stdout"
        }
      ]
    },
    {
      "cell_type": "code",
      "metadata": {
        "id": "astZ_3ZfAfeu"
      },
      "source": [
        "from sklearn.ensemble import RandomForestClassifier\n",
        "\n",
        "# Initialize our model with 500 trees\n",
        "rf = RandomForestClassifier(n_estimators=500, oob_score=True)\n",
        "\n",
        "# Fit our model to training data\n",
        "rf = rf.fit(X, y)"
      ],
      "execution_count": null,
      "outputs": []
    },
    {
      "cell_type": "code",
      "metadata": {
        "id": "AqzzmTYBCIq5",
        "outputId": "f64b2df2-47cd-4d71-911f-92088599aaa9",
        "colab": {
          "base_uri": "https://localhost:8080/",
          "height": 141
        }
      },
      "source": [
        "rf"
      ],
      "execution_count": null,
      "outputs": [
        {
          "output_type": "execute_result",
          "data": {
            "text/plain": [
              "RandomForestClassifier(bootstrap=True, class_weight=None, criterion='gini',\n",
              "                       max_depth=None, max_features='auto', max_leaf_nodes=None,\n",
              "                       min_impurity_decrease=0.0, min_impurity_split=None,\n",
              "                       min_samples_leaf=1, min_samples_split=2,\n",
              "                       min_weight_fraction_leaf=0.0, n_estimators=500,\n",
              "                       n_jobs=None, oob_score=True, random_state=None,\n",
              "                       verbose=0, warm_start=False)"
            ]
          },
          "metadata": {
            "tags": []
          },
          "execution_count": 12
        }
      ]
    },
    {
      "cell_type": "code",
      "metadata": {
        "id": "delI1DDWCKvw",
        "outputId": "26fb02e0-26a8-4872-c376-423e1d96e2d0",
        "colab": {
          "base_uri": "https://localhost:8080/",
          "height": 34
        }
      },
      "source": [
        "print('Our OOB prediction of accuracy is: {oob}%'.format(oob=rf.oob_score_ * 100))"
      ],
      "execution_count": null,
      "outputs": [
        {
          "output_type": "stream",
          "text": [
            "Our OOB prediction of accuracy is: 89.45063694267516%\n"
          ],
          "name": "stdout"
        }
      ]
    },
    {
      "cell_type": "code",
      "metadata": {
        "id": "ykOVgnJeCUMf",
        "outputId": "b48e985f-b344-4525-b992-2edc5784ed06",
        "colab": {
          "base_uri": "https://localhost:8080/",
          "height": 70
        }
      },
      "source": [
        "bands = [1, 2, 3]\n",
        "\n",
        "for b, imp in zip(bands, rf.feature_importances_):\n",
        "    print('Band {b} importance: {imp}'.format(b=b, imp=imp))"
      ],
      "execution_count": null,
      "outputs": [
        {
          "output_type": "stream",
          "text": [
            "Band 1 importance: 0.3006853725942862\n",
            "Band 2 importance: 0.33197369129663934\n",
            "Band 3 importance: 0.3673409361090745\n"
          ],
          "name": "stdout"
        }
      ]
    },
    {
      "cell_type": "code",
      "metadata": {
        "id": "bcZWlM4CCo0I",
        "outputId": "98c077a3-17a0-46bc-b3fe-7b4362e9abad",
        "colab": {
          "base_uri": "https://localhost:8080/",
          "height": 158
        }
      },
      "source": [
        "import pandas as pd\n",
        "\n",
        "# Setup a dataframe -- just like R\n",
        "df = pd.DataFrame()\n",
        "df['truth'] = y\n",
        "df['predict'] = rf.predict(X)\n",
        "\n",
        "# Cross-tabulate predictions\n",
        "print(pd.crosstab(df['truth'], df['predict'], margins=True))"
      ],
      "execution_count": null,
      "outputs": [
        {
          "output_type": "stream",
          "text": [
            "predict     1    2    3    4   5   All\n",
            "truth                                 \n",
            "1        1105    0    0    0   0  1105\n",
            "2           0  572    0    0   0   572\n",
            "3           0    0  609    0   0   609\n",
            "4           0    0    0  151   0   151\n",
            "5           0    0    0    0  75    75\n",
            "All      1105  572  609  151  75  2512\n"
          ],
          "name": "stdout"
        }
      ]
    },
    {
      "cell_type": "code",
      "metadata": {
        "id": "7QJLRPckEO8Q",
        "outputId": "a0e48ce4-7048-4403-9f43-1f8a29ee4f1b",
        "colab": {
          "base_uri": "https://localhost:8080/",
          "height": 34
        }
      },
      "source": [
        "# Take our full image, ignore the Fmask band, and reshape into long 2d array (nrow * ncol, nband) for classification\n",
        "new_shape = (img.shape[0] * img.shape[1], img.shape[2] )\n",
        "\n",
        "img_as_array = img[:, :, :3].reshape(new_shape)\n",
        "print('Reshaped from {o} to {n}'.format(o=img.shape,\n",
        "                                        n=img_as_array.shape))\n",
        "\n",
        "# Now predict for each pixel\n",
        "class_prediction = rf.predict(img_as_array)\n",
        "\n",
        "# Reshape our classification map\n",
        "class_prediction = class_prediction.reshape(img[:, :, 0].shape)"
      ],
      "execution_count": null,
      "outputs": [
        {
          "output_type": "stream",
          "text": [
            "Reshaped from (445, 482, 3) to (214490, 3)\n"
          ],
          "name": "stdout"
        }
      ]
    },
    {
      "cell_type": "code",
      "metadata": {
        "id": "tdqI651NSVOu",
        "outputId": "a44e2889-97d1-47d2-eec5-6b4f0dd86a4c",
        "colab": {
          "base_uri": "https://localhost:8080/",
          "height": 887
        }
      },
      "source": [
        "img[:,:,:]"
      ],
      "execution_count": null,
      "outputs": [
        {
          "output_type": "execute_result",
          "data": {
            "text/plain": [
              "array([[[2299., 1216., 1402.],\n",
              "        [2205., 1161., 1391.],\n",
              "        [2202., 1136., 1380.],\n",
              "        ...,\n",
              "        [2361., 1087., 1351.],\n",
              "        [2473., 1088., 1365.],\n",
              "        [2310., 1090., 1340.]],\n",
              "\n",
              "       [[2338., 1162., 1362.],\n",
              "        [2160., 1143., 1364.],\n",
              "        [2169., 1128., 1369.],\n",
              "        ...,\n",
              "        [2270., 1077., 1346.],\n",
              "        [2372., 1088., 1370.],\n",
              "        [2309., 1123., 1376.]],\n",
              "\n",
              "       [[2409., 1129., 1377.],\n",
              "        [2328., 1109., 1361.],\n",
              "        [2355., 1113., 1368.],\n",
              "        ...,\n",
              "        [2191., 1067., 1350.],\n",
              "        [2247., 1098., 1356.],\n",
              "        [2269., 1140., 1387.]],\n",
              "\n",
              "       ...,\n",
              "\n",
              "       [[2335., 1191., 1394.],\n",
              "        [2281., 1218., 1410.],\n",
              "        [2246., 1239., 1386.],\n",
              "        ...,\n",
              "        [2232., 1162., 1388.],\n",
              "        [2193., 1175., 1367.],\n",
              "        [2242., 1165., 1388.]],\n",
              "\n",
              "       [[2394., 1178., 1376.],\n",
              "        [2283., 1211., 1389.],\n",
              "        [2189., 1213., 1387.],\n",
              "        ...,\n",
              "        [2265., 1149., 1380.],\n",
              "        [2188., 1156., 1375.],\n",
              "        [2189., 1140., 1376.]],\n",
              "\n",
              "       [[2197., 1223., 1398.],\n",
              "        [2218., 1237., 1398.],\n",
              "        [2282., 1174., 1380.],\n",
              "        ...,\n",
              "        [2361., 1138., 1380.],\n",
              "        [2209., 1138., 1363.],\n",
              "        [2169., 1143., 1365.]]], dtype=float32)"
            ]
          },
          "metadata": {
            "tags": []
          },
          "execution_count": 17
        }
      ]
    },
    {
      "cell_type": "code",
      "metadata": {
        "id": "EBvaoNJvGy8E",
        "outputId": "68ac8ddc-f3bd-4bc9-fb0f-0bf16c89dd46",
        "colab": {
          "base_uri": "https://localhost:8080/",
          "height": 192
        }
      },
      "source": [
        "# Visualize\n",
        "\n",
        "# First setup a 5-4-3 composite\n",
        "def color_stretch(image, index, minmax=(0, 10000)):\n",
        "    colors = image[:, :, index].astype(np.float64)\n",
        "\n",
        "    max_val = minmax[1]\n",
        "    min_val = minmax[0]\n",
        "    #print('---',colors[:,:,:],'---')\n",
        "    # Enforce maximum and minimum values\n",
        "    colors[colors[:, :, :] >= max_val] = 255\n",
        "    colors[colors[:, :, :] < min_val] = 0\n",
        "    print(colors,'--->')\n",
        "    for b in range(colors.shape[2]):#[0,1,2]\n",
        "        colors[:, :, b] = colors[:, :, b] * 1 / 255\n",
        "\n",
        "    return colors\n",
        "\n",
        "#img543 = color_stretch(img, [0,1,2], (111,111))\n",
        "\n",
        "# See https://github.com/matplotlib/matplotlib/issues/844/\n",
        "n = class_prediction.max()\n",
        "# Next setup a colormap for our map\n",
        "colors = dict((\n",
        "    (0, (0, 0, 0, 255)),  # Nodata\n",
        "    (1, (160, 82, 45, 255)),  # bare land\n",
        "    (2, (0,150, 0, 255)),  # crop land\n",
        "    (3, (250, 0, 0, 255)),  # buit up\n",
        "    (4, (0,150, 150, 255)),  # water body\n",
        "    (5, (250, 0, 150, 255))  # Road\n",
        "))\n",
        "# Put 0 - 255 as float 0 - 1\n",
        "for k in colors:\n",
        "    v = colors[k]\n",
        "    _v = [_v / 255.0 for _v in v]\n",
        "    colors[k] = _v\n",
        "\n",
        "\n",
        "index_colors = [colors[key] if key in colors else\n",
        "                (255, 255, 255, 0) for key in range(1, n+1)]\n",
        "cmap = plt.matplotlib.colors.ListedColormap((index_colors), n)\n",
        "\n",
        "# Now show the classmap next to the image\n",
        "\n",
        "#plt.subplot(121)\n",
        "#plt.imshow(img543)\n",
        "\n",
        "plt.subplot(121)\n",
        "plt.imshow(class_prediction, cmap=cmap, interpolation='none')\n",
        "plt.show()\n",
        "\n",
        "#plt.subplot(122)\n",
        "#plt.imshow(img)\n",
        "#plt.show()\n"
      ],
      "execution_count": null,
      "outputs": [
        {
          "output_type": "display_data",
          "data": {
            "image/png": "[encoded data removed]",
            "text/plain": [
              "<Figure size 432x288 with 1 Axes>"
            ]
          },
          "metadata": {
            "tags": []
          }
        }
      ]
    },
    {
      "cell_type": "code",
      "metadata": {
        "id": "hSjoYytWp0UP",
        "outputId": "1b3ea52b-6110-44a5-c369-bef0c7b7df72",
        "colab": {
          "base_uri": "https://localhost:8080/",
          "height": 336
        }
      },
      "source": [
        "import matplotlib.patches as mpatches\n",
        "import matplotlib.pyplot as plt\n",
        "\n",
        "red_patch = mpatches.Patch(color='red', label='Built-up')\n",
        "Green_patch = mpatches.Patch(color='g', label='Crop Area')\n",
        "blue_patch = mpatches.Patch(color='turquoise', label='Water Body')\n",
        "brown_patch = mpatches.Patch(color='peru', label='Bare Land')\n",
        "pink_patch = mpatches.Patch(color='magenta', label='Road')\n",
        "plt.legend(handles=[red_patch,Green_patch,brown_patch,blue_patch,pink_patch])\n",
        "ax=plt.subplot(111)\n",
        "box = ax.get_position()\n",
        "ax.set_position([box.x0, box.y0, box.width * 0.8, box.height])\n",
        "\n",
        "# Put a legend to the right of the current axis\n",
        "ax.legend(loc='center left', bbox_to_anchor=(1, 0.5),handles=[red_patch,Green_patch,brown_patch,blue_patch,pink_patch])\n",
        "\n",
        "\n",
        "plt.title(\"Random forest with 500 trees\")\n",
        "plt.imshow(class_prediction, cmap=cmap, interpolation='none')\n",
        "plt.show()"
      ],
      "execution_count": null,
      "outputs": [
        {
          "output_type": "stream",
          "text": [
            "/usr/local/lib/python3.6/dist-packages/ipykernel_launcher.py:10: MatplotlibDeprecationWarning: Adding an axes using the same arguments as a previous axes currently reuses the earlier instance.  In a future version, a new instance will always be created and returned.  Meanwhile, this warning can be suppressed, and the future behavior ensured, by passing a unique label to each axes instance.\n",
            "  # Remove the CWD from sys.path while we load stuff.\n"
          ],
          "name": "stderr"
        },
        {
          "output_type": "display_data",
          "data": {
            "image/png": "[encoded data removed]",
            "text/plain": [
              "<Figure size 432x288 with 1 Axes>"
            ]
          },
          "metadata": {
            "tags": []
          }
        }
      ]
    },
    {
      "cell_type": "code",
      "metadata": {
        "id": "TCtfY9AtdxAI",
        "outputId": "6d61f506-ec82-4a52-8016-a841c72e217c",
        "colab": {
          "base_uri": "https://localhost:8080/",
          "height": 261
        }
      },
      "source": [
        "import matplotlib.pyplot as plt\n",
        "w = 4\n",
        "h = 3\n",
        "d = 70\n",
        "plt.figure(figsize=(w, h), dpi=d)\n",
        "y1 = [2, 3, 4.5]\n",
        "y2 = [1, 1.5, 5]\n",
        "\n",
        "plt.plot(y1)\n",
        "plt.plot(y2)\n",
        "ax = plt.subplot(111)\n",
        "box = ax.get_position()\n",
        "ax.set_position([box.x0, box.y0, box.width*0.65, box.height])\n",
        "legend_x = 1\n",
        "legend_y = 0.5\n",
        "plt.legend([\"blue\", \"green\"], loc='center left', bbox_to_anchor=(legend_x, legend_y))\n",
        "plt.savefig(\"out.png\")"
      ],
      "execution_count": null,
      "outputs": [
        {
          "output_type": "stream",
          "text": [
            "/usr/local/lib/python3.6/dist-packages/ipykernel_launcher.py:11: MatplotlibDeprecationWarning: Adding an axes using the same arguments as a previous axes currently reuses the earlier instance.  In a future version, a new instance will always be created and returned.  Meanwhile, this warning can be suppressed, and the future behavior ensured, by passing a unique label to each axes instance.\n",
            "  # This is added back by InteractiveShellApp.init_path()\n"
          ],
          "name": "stderr"
        },
        {
          "output_type": "display_data",
          "data": {
            "image/png": "[encoded data removed]",
            "text/plain": [
              "<Figure size 280x210 with 1 Axes>"
            ]
          },
          "metadata": {
            "tags": []
          }
        }
      ]
    },
    {
      "cell_type": "code",
      "metadata": {
        "id": "T3VHm7XYJGEB",
        "outputId": "5a7938bf-fe79-4e00-8e32-1cb7d6e5fd07",
        "colab": {
          "base_uri": "https://localhost:8080/",
          "height": 298
        }
      },
      "source": [
        "plt.imshow(roi, cmap=plt.cm.Spectral)\n",
        "plt.title('ROI Training Data')\n"
      ],
      "execution_count": null,
      "outputs": [
        {
          "output_type": "execute_result",
          "data": {
            "text/plain": [
              "Text(0.5, 1.0, 'ROI Training Data')"
            ]
          },
          "metadata": {
            "tags": []
          },
          "execution_count": 21
        },
        {
          "output_type": "display_data",
          "data": {
            "image/png": "[encoded data removed]",
            "text/plain": [
              "<Figure size 432x288 with 1 Axes>"
            ]
          },
          "metadata": {
            "tags": []
          }
        }
      ]
    },
    {
      "cell_type": "code",
      "metadata": {
        "id": "yJyZ8sxTPqGh"
      },
      "source": [
        "import cv2"
      ],
      "execution_count": null,
      "outputs": []
    },
    {
      "cell_type": "code",
      "metadata": {
        "id": "vS481OHQVIKV",
        "outputId": "7210e99b-8620-4d65-c41b-412b15f0ea25",
        "colab": {
          "base_uri": "https://localhost:8080/",
          "height": 381
        }
      },
      "source": [
        "\n",
        "\n",
        "import rasterio\n",
        "from rasterio.plot import show\n",
        "import numpy as np\n",
        "import os\n",
        "%matplotlib inline\n",
        "\n",
        "# Data dir\n",
        "\n",
        "\n",
        "# Filepath\n",
        "fp = os.path.join('/content/fcc_clipped.tif')\n",
        "\n",
        "# Open the file:\n",
        "raster = rasterio.open(fp)\n",
        "\n",
        "# Plot band 1\n",
        "show((raster, 1))"
      ],
      "execution_count": null,
      "outputs": [
        {
          "output_type": "error",
          "ename": "ModuleNotFoundError",
          "evalue": "ignored",
          "traceback": [
            "\u001b[0;31m---------------------------------------------------------------------------\u001b[0m",
            "\u001b[0;31mModuleNotFoundError\u001b[0m                       Traceback (most recent call last)",
            "\u001b[0;32m<ipython-input-23-c171ca0bf5e2>\u001b[0m in \u001b[0;36m<module>\u001b[0;34m()\u001b[0m\n\u001b[1;32m      1\u001b[0m \u001b[0;34m\u001b[0m\u001b[0m\n\u001b[1;32m      2\u001b[0m \u001b[0;34m\u001b[0m\u001b[0m\n\u001b[0;32m----> 3\u001b[0;31m \u001b[0;32mimport\u001b[0m \u001b[0mrasterio\u001b[0m\u001b[0;34m\u001b[0m\u001b[0;34m\u001b[0m\u001b[0m\n\u001b[0m\u001b[1;32m      4\u001b[0m \u001b[0;32mfrom\u001b[0m \u001b[0mrasterio\u001b[0m\u001b[0;34m.\u001b[0m\u001b[0mplot\u001b[0m \u001b[0;32mimport\u001b[0m \u001b[0mshow\u001b[0m\u001b[0;34m\u001b[0m\u001b[0;34m\u001b[0m\u001b[0m\n\u001b[1;32m      5\u001b[0m \u001b[0;32mimport\u001b[0m \u001b[0mnumpy\u001b[0m \u001b[0;32mas\u001b[0m \u001b[0mnp\u001b[0m\u001b[0;34m\u001b[0m\u001b[0;34m\u001b[0m\u001b[0m\n",
            "\u001b[0;31mModuleNotFoundError\u001b[0m: No module named 'rasterio'",
            "",
            "\u001b[0;31m---------------------------------------------------------------------------\u001b[0;32m\nNOTE: If your import is failing due to a missing package, you can\nmanually install dependencies using either !pip or !apt.\n\nTo view examples of installing some common dependencies, click the\n\"Open Examples\" button below.\n\u001b[0;31m---------------------------------------------------------------------------\u001b[0m\n"
          ]
        }
      ]
    },
    {
      "cell_type": "code",
      "metadata": {
        "id": "9T4fuiKIVTem",
        "outputId": "76931442-f903-4fa1-c486-b8f717bb479b",
        "colab": {
          "base_uri": "https://localhost:8080/",
          "height": 238
        }
      },
      "source": [
        "red = raster.read(3)\n",
        "green = raster.read(2)\n",
        "blue = raster.read(1)\n",
        "\n",
        "# Function to normalize the grid values\n",
        "def normalize(array):\n",
        "    \"\"\"Normalizes numpy arrays into scale 0.0 - 1.0\"\"\"\n",
        "    array_min, array_max = array.min(), array.max()\n",
        "    return ((array - array_min)/(array_max - array_min))\n",
        "\n",
        "# Normalize the bands\n",
        "redn = normalize(red)\n",
        "greenn = normalize(green)\n",
        "bluen = normalize(blue)\n",
        "\n",
        "print(\"Normalized bands\")\n",
        "print(redn.min(), '-', redn.max(), 'mean:', redn.mean())\n",
        "print(greenn.min(), '-', greenn.max(), 'mean:', greenn.mean())\n",
        "print(bluen.min(), '-', bluen.max(), 'mean:', bluen.mean())"
      ],
      "execution_count": null,
      "outputs": [
        {
          "output_type": "error",
          "ename": "NameError",
          "evalue": "ignored",
          "traceback": [
            "\u001b[0;31m---------------------------------------------------------------------------\u001b[0m",
            "\u001b[0;31mNameError\u001b[0m                                 Traceback (most recent call last)",
            "\u001b[0;32m<ipython-input-46-244fc16544b1>\u001b[0m in \u001b[0;36m<module>\u001b[0;34m()\u001b[0m\n\u001b[0;32m----> 1\u001b[0;31m \u001b[0mred\u001b[0m \u001b[0;34m=\u001b[0m \u001b[0mraster\u001b[0m\u001b[0;34m.\u001b[0m\u001b[0mread\u001b[0m\u001b[0;34m(\u001b[0m\u001b[0;36m3\u001b[0m\u001b[0;34m)\u001b[0m\u001b[0;34m\u001b[0m\u001b[0;34m\u001b[0m\u001b[0m\n\u001b[0m\u001b[1;32m      2\u001b[0m \u001b[0mgreen\u001b[0m \u001b[0;34m=\u001b[0m \u001b[0mraster\u001b[0m\u001b[0;34m.\u001b[0m\u001b[0mread\u001b[0m\u001b[0;34m(\u001b[0m\u001b[0;36m2\u001b[0m\u001b[0;34m)\u001b[0m\u001b[0;34m\u001b[0m\u001b[0;34m\u001b[0m\u001b[0m\n\u001b[1;32m      3\u001b[0m \u001b[0mblue\u001b[0m \u001b[0;34m=\u001b[0m \u001b[0mraster\u001b[0m\u001b[0;34m.\u001b[0m\u001b[0mread\u001b[0m\u001b[0;34m(\u001b[0m\u001b[0;36m1\u001b[0m\u001b[0;34m)\u001b[0m\u001b[0;34m\u001b[0m\u001b[0;34m\u001b[0m\u001b[0m\n\u001b[1;32m      4\u001b[0m \u001b[0;34m\u001b[0m\u001b[0m\n\u001b[1;32m      5\u001b[0m \u001b[0;31m# Function to normalize the grid values\u001b[0m\u001b[0;34m\u001b[0m\u001b[0;34m\u001b[0m\u001b[0;34m\u001b[0m\u001b[0m\n",
            "\u001b[0;31mNameError\u001b[0m: name 'raster' is not defined"
          ]
        }
      ]
    },
    {
      "cell_type": "code",
      "metadata": {
        "id": "HcijDWwwVrLw",
        "outputId": "41b35819-10c5-46c9-964e-d498c2a939d4",
        "colab": {
          "base_uri": "https://localhost:8080/",
          "height": 221
        }
      },
      "source": [
        "rgb = np.dstack((redn, greenn, bluen))\n",
        "\n",
        "# Let's see how our color composite looks like\n",
        "plt.imshow(rgb)"
      ],
      "execution_count": null,
      "outputs": [
        {
          "output_type": "error",
          "ename": "NameError",
          "evalue": "ignored",
          "traceback": [
            "\u001b[0;31m---------------------------------------------------------------------------\u001b[0m",
            "\u001b[0;31mNameError\u001b[0m                                 Traceback (most recent call last)",
            "\u001b[0;32m<ipython-input-47-2d064efd54f5>\u001b[0m in \u001b[0;36m<module>\u001b[0;34m()\u001b[0m\n\u001b[0;32m----> 1\u001b[0;31m \u001b[0mrgb\u001b[0m \u001b[0;34m=\u001b[0m \u001b[0mnp\u001b[0m\u001b[0;34m.\u001b[0m\u001b[0mdstack\u001b[0m\u001b[0;34m(\u001b[0m\u001b[0;34m(\u001b[0m\u001b[0mredn\u001b[0m\u001b[0;34m,\u001b[0m \u001b[0mgreenn\u001b[0m\u001b[0;34m,\u001b[0m \u001b[0mbluen\u001b[0m\u001b[0;34m)\u001b[0m\u001b[0;34m)\u001b[0m\u001b[0;34m\u001b[0m\u001b[0;34m\u001b[0m\u001b[0m\n\u001b[0m\u001b[1;32m      2\u001b[0m \u001b[0;34m\u001b[0m\u001b[0m\n\u001b[1;32m      3\u001b[0m \u001b[0;31m# Let's see how our color composite looks like\u001b[0m\u001b[0;34m\u001b[0m\u001b[0;34m\u001b[0m\u001b[0;34m\u001b[0m\u001b[0m\n\u001b[1;32m      4\u001b[0m \u001b[0mplt\u001b[0m\u001b[0;34m.\u001b[0m\u001b[0mimshow\u001b[0m\u001b[0;34m(\u001b[0m\u001b[0mrgb\u001b[0m\u001b[0;34m)\u001b[0m\u001b[0;34m\u001b[0m\u001b[0;34m\u001b[0m\u001b[0m\n",
            "\u001b[0;31mNameError\u001b[0m: name 'redn' is not defined"
          ]
        }
      ]
    },
    {
      "cell_type": "code",
      "metadata": {
        "id": "YXk444Q5VuER",
        "outputId": "0274b57c-9cac-4a41-b644-6e5a0c3e131f",
        "colab": {
          "base_uri": "https://localhost:8080/",
          "height": 238
        }
      },
      "source": [
        "nir = raster.read(1)\n",
        "red = raster.read(2)\n",
        "green = raster.read(3)\n",
        "\n",
        "# Normalize the values using the function that we defined earlier\n",
        "nirn = normalize(nir)\n",
        "redn = normalize(red)\n",
        "greenn = normalize(green)\n",
        "\n",
        "# Create the composite by stacking\n",
        "nrg = np.dstack((nirn, redn, greenn))\n",
        "\n",
        "# Let's see how our color composite looks like\n",
        "plt.imshow(nrg)"
      ],
      "execution_count": null,
      "outputs": [
        {
          "output_type": "error",
          "ename": "NameError",
          "evalue": "ignored",
          "traceback": [
            "\u001b[0;31m---------------------------------------------------------------------------\u001b[0m",
            "\u001b[0;31mNameError\u001b[0m                                 Traceback (most recent call last)",
            "\u001b[0;32m<ipython-input-48-5e55ce32a712>\u001b[0m in \u001b[0;36m<module>\u001b[0;34m()\u001b[0m\n\u001b[0;32m----> 1\u001b[0;31m \u001b[0mnir\u001b[0m \u001b[0;34m=\u001b[0m \u001b[0mraster\u001b[0m\u001b[0;34m.\u001b[0m\u001b[0mread\u001b[0m\u001b[0;34m(\u001b[0m\u001b[0;36m1\u001b[0m\u001b[0;34m)\u001b[0m\u001b[0;34m\u001b[0m\u001b[0;34m\u001b[0m\u001b[0m\n\u001b[0m\u001b[1;32m      2\u001b[0m \u001b[0mred\u001b[0m \u001b[0;34m=\u001b[0m \u001b[0mraster\u001b[0m\u001b[0;34m.\u001b[0m\u001b[0mread\u001b[0m\u001b[0;34m(\u001b[0m\u001b[0;36m2\u001b[0m\u001b[0;34m)\u001b[0m\u001b[0;34m\u001b[0m\u001b[0;34m\u001b[0m\u001b[0m\n\u001b[1;32m      3\u001b[0m \u001b[0mgreen\u001b[0m \u001b[0;34m=\u001b[0m \u001b[0mraster\u001b[0m\u001b[0;34m.\u001b[0m\u001b[0mread\u001b[0m\u001b[0;34m(\u001b[0m\u001b[0;36m3\u001b[0m\u001b[0;34m)\u001b[0m\u001b[0;34m\u001b[0m\u001b[0;34m\u001b[0m\u001b[0m\n\u001b[1;32m      4\u001b[0m \u001b[0;34m\u001b[0m\u001b[0m\n\u001b[1;32m      5\u001b[0m \u001b[0;31m# Normalize the values using the function that we defined earlier\u001b[0m\u001b[0;34m\u001b[0m\u001b[0;34m\u001b[0m\u001b[0;34m\u001b[0m\u001b[0m\n",
            "\u001b[0;31mNameError\u001b[0m: name 'raster' is not defined"
          ]
        }
      ]
    },
    {
      "cell_type": "code",
      "metadata": {
        "id": "tR_7nCwfV0AC",
        "outputId": "4cd11065-1677-488f-ebdf-92af12e682a2",
        "colab": {
          "base_uri": "https://localhost:8080/",
          "height": 467
        }
      },
      "source": [
        "plt.title(\"FCC\")\n",
        "plt.imshow(nrg, cmap=cmap, interpolation='none')\n",
        "plt.show()"
      ],
      "execution_count": null,
      "outputs": [
        {
          "output_type": "error",
          "ename": "NameError",
          "evalue": "ignored",
          "traceback": [
            "\u001b[0;31m---------------------------------------------------------------------------\u001b[0m",
            "\u001b[0;31mNameError\u001b[0m                                 Traceback (most recent call last)",
            "\u001b[0;32m<ipython-input-49-c4e9f73fd032>\u001b[0m in \u001b[0;36m<module>\u001b[0;34m()\u001b[0m\n\u001b[1;32m      1\u001b[0m \u001b[0mplt\u001b[0m\u001b[0;34m.\u001b[0m\u001b[0mtitle\u001b[0m\u001b[0;34m(\u001b[0m\u001b[0;34m\"FCC\"\u001b[0m\u001b[0;34m)\u001b[0m\u001b[0;34m\u001b[0m\u001b[0;34m\u001b[0m\u001b[0m\n\u001b[0;32m----> 2\u001b[0;31m \u001b[0mplt\u001b[0m\u001b[0;34m.\u001b[0m\u001b[0mimshow\u001b[0m\u001b[0;34m(\u001b[0m\u001b[0mnrg\u001b[0m\u001b[0;34m,\u001b[0m \u001b[0mcmap\u001b[0m\u001b[0;34m=\u001b[0m\u001b[0mcmap\u001b[0m\u001b[0;34m,\u001b[0m \u001b[0minterpolation\u001b[0m\u001b[0;34m=\u001b[0m\u001b[0;34m'none'\u001b[0m\u001b[0;34m)\u001b[0m\u001b[0;34m\u001b[0m\u001b[0;34m\u001b[0m\u001b[0m\n\u001b[0m\u001b[1;32m      3\u001b[0m \u001b[0mplt\u001b[0m\u001b[0;34m.\u001b[0m\u001b[0mshow\u001b[0m\u001b[0;34m(\u001b[0m\u001b[0;34m)\u001b[0m\u001b[0;34m\u001b[0m\u001b[0;34m\u001b[0m\u001b[0m\n",
            "\u001b[0;31mNameError\u001b[0m: name 'nrg' is not defined"
          ]
        },
        {
          "output_type": "display_data",
          "data": {
            "image/png": "[encoded data removed]",
            "text/plain": [
              "<Figure size 432x288 with 1 Axes>"
            ]
          },
          "metadata": {
            "tags": []
          }
        }
      ]
    },
    {
      "cell_type": "code",
      "metadata": {
        "id": "6ENoAc4ClipF",
        "outputId": "6622469e-086b-446a-ee1a-238b89db4b96",
        "colab": {
          "base_uri": "https://localhost:8080/",
          "height": 303
        }
      },
      "source": [
        "!pip install rasterio\n"
      ],
      "execution_count": null,
      "outputs": [
        {
          "output_type": "stream",
          "text": [
            "Collecting rasterio\n",
            "\u001b[?25l  Downloading https://files.pythonhosted.org/packages/94/da/a06e29e22dd464e618ae0fe580f444b0782ccf75fe3a784249cb59534f32/rasterio-1.1.1-cp36-cp36m-manylinux1_x86_64.whl (15.2MB)\n",
            "\u001b[K     |████████████████████████████████| 15.2MB 156kB/s \n",
            "\u001b[?25hRequirement already satisfied: numpy in /usr/local/lib/python3.6/dist-packages (from rasterio) (1.17.4)\n",
            "Collecting affine\n",
            "  Downloading https://files.pythonhosted.org/packages/ac/a6/1a39a1ede71210e3ddaf623982b06ecfc5c5c03741ae659073159184cd3e/affine-2.3.0-py2.py3-none-any.whl\n",
            "Requirement already satisfied: cligj>=0.5 in /usr/local/lib/python3.6/dist-packages (from rasterio) (0.5.0)\n",
            "Requirement already satisfied: click<8,>=4.0 in /usr/local/lib/python3.6/dist-packages (from rasterio) (7.0)\n",
            "Collecting snuggs>=1.4.1\n",
            "  Downloading https://files.pythonhosted.org/packages/cc/0e/d27d6e806d6c0d1a2cfdc5d1f088e42339a0a54a09c3343f7f81ec8947ea/snuggs-1.4.7-py3-none-any.whl\n",
            "Requirement already satisfied: attrs in /usr/local/lib/python3.6/dist-packages (from rasterio) (19.3.0)\n",
            "Requirement already satisfied: click-plugins in /usr/local/lib/python3.6/dist-packages (from rasterio) (1.1.1)\n",
            "Requirement already satisfied: pyparsing>=2.1.6 in /usr/local/lib/python3.6/dist-packages (from snuggs>=1.4.1->rasterio) (2.4.5)\n",
            "Installing collected packages: affine, snuggs, rasterio\n",
            "Successfully installed affine-2.3.0 rasterio-1.1.1 snuggs-1.4.7\n"
          ],
          "name": "stdout"
        }
      ]
    },
    {
      "cell_type": "code",
      "metadata": {
        "id": "fjABVsGnZND8"
      },
      "source": [],
      "execution_count": null,
      "outputs": []
    },
    {
      "cell_type": "code",
      "metadata": {
        "id": "f1pXsRH7aWE_",
        "outputId": "02b1c053-eae0-4bf8-a8ab-a72b3296ece3",
        "colab": {
          "base_uri": "https://localhost:8080/",
          "height": 87
        }
      },
      "source": [
        "from sklearn.svm import SVC # \"Support Vector Classifier\"\n",
        "svm = SVC(kernel='linear')\n",
        "\n",
        "# fitting x samples and y classes\n",
        "svm.fit(X, y)"
      ],
      "execution_count": null,
      "outputs": [
        {
          "output_type": "execute_result",
          "data": {
            "text/plain": [
              "SVC(C=1.0, cache_size=200, class_weight=None, coef0=0.0,\n",
              "    decision_function_shape='ovr', degree=3, gamma='auto_deprecated',\n",
              "    kernel='linear', max_iter=-1, probability=False, random_state=None,\n",
              "    shrinking=True, tol=0.001, verbose=False)"
            ]
          },
          "metadata": {
            "tags": []
          },
          "execution_count": 52
        }
      ]
    },
    {
      "cell_type": "code",
      "metadata": {
        "id": "wrRIlu_9ahMJ",
        "outputId": "9e469a84-cf9e-407a-e0ef-8b51b6da48cc",
        "colab": {
          "base_uri": "https://localhost:8080/",
          "height": 87
        }
      },
      "source": [
        "\n",
        "svm"
      ],
      "execution_count": null,
      "outputs": [
        {
          "output_type": "execute_result",
          "data": {
            "text/plain": [
              "SVC(C=1.0, cache_size=200, class_weight=None, coef0=0.0,\n",
              "    decision_function_shape='ovr', degree=3, gamma='auto_deprecated',\n",
              "    kernel='linear', max_iter=-1, probability=False, random_state=None,\n",
              "    shrinking=True, tol=0.001, verbose=False)"
            ]
          },
          "metadata": {
            "tags": []
          },
          "execution_count": 53
        }
      ]
    },
    {
      "cell_type": "code",
      "metadata": {
        "id": "CXy-1wdmatfY",
        "outputId": "68d0775a-127b-49c7-e405-d1cec639f5b9",
        "colab": {
          "base_uri": "https://localhost:8080/",
          "height": 158
        }
      },
      "source": [
        "import pandas as pd\n",
        "\n",
        "# Setup a dataframe -- just like R\n",
        "df = pd.DataFrame()\n",
        "df['truth'] = y\n",
        "df['predict'] = svm.predict(X)\n",
        "\n",
        "# Cross-tabulate predictions\n",
        "print(pd.crosstab(df['truth'], df['predict'], margins=True))"
      ],
      "execution_count": null,
      "outputs": [
        {
          "output_type": "stream",
          "text": [
            "predict     1    2    3    4   5   All\n",
            "truth                                 \n",
            "1        1026   29   50    0   0  1105\n",
            "2          26  540    6    0   0   572\n",
            "3         110    3  493    0   3   609\n",
            "4           0    0    0  151   0   151\n",
            "5           4   12   18    0  41    75\n",
            "All      1166  584  567  151  44  2512\n"
          ],
          "name": "stdout"
        }
      ]
    },
    {
      "cell_type": "code",
      "metadata": {
        "id": "Jc0RKDR0a52y",
        "outputId": "23f789c8-1466-4f44-d16c-416bf5accfe8",
        "colab": {
          "base_uri": "https://localhost:8080/",
          "height": 34
        }
      },
      "source": [
        "# Take our full image, ignore the Fmask band, and reshape into long 2d array (nrow * ncol, nband) for classification\n",
        "new_shape = (img.shape[0] * img.shape[1], img.shape[2] )\n",
        "\n",
        "img_as_array = img[:, :, :3].reshape(new_shape)\n",
        "print('Reshaped from {o} to {n}'.format(o=img.shape,\n",
        "                                        n=img_as_array.shape))\n",
        "\n",
        "# Now predict for each pixel\n",
        "class_prediction = svm.predict(img_as_array)\n",
        "\n",
        "# Reshape our classification map\n",
        "class_prediction = class_prediction.reshape(img[:, :, 0].shape)"
      ],
      "execution_count": null,
      "outputs": [
        {
          "output_type": "stream",
          "text": [
            "Reshaped from (445, 482, 3) to (214490, 3)\n"
          ],
          "name": "stdout"
        }
      ]
    },
    {
      "cell_type": "code",
      "metadata": {
        "id": "5V0IKIJhbUQX",
        "outputId": "c45b8bcc-780d-4c49-b577-8bebf99dfb8f",
        "colab": {
          "base_uri": "https://localhost:8080/",
          "height": 192
        }
      },
      "source": [
        "# Visualize\n",
        "\n",
        "# First setup a 5-4-3 composite\n",
        "def color_stretch(image, index, minmax=(0, 10000)):\n",
        "    colors = image[:, :, index].astype(np.float64)\n",
        "\n",
        "    max_val = minmax[1]\n",
        "    min_val = minmax[0]\n",
        "    #print('---',colors[:,:,:],'---')\n",
        "    # Enforce maximum and minimum values\n",
        "    colors[colors[:, :, :] >= max_val] = 255\n",
        "    colors[colors[:, :, :] < min_val] = 0\n",
        "    print(colors,'--->')\n",
        "    for b in range(colors.shape[2]):#[0,1,2]\n",
        "        colors[:, :, b] = colors[:, :, b] * 1 / 255\n",
        "\n",
        "    return colors\n",
        "\n",
        "#img543 = color_stretch(img, [0,1,2], (111,111))\n",
        "\n",
        "# See https://github.com/matplotlib/matplotlib/issues/844/\n",
        "n = class_prediction.max()\n",
        "# Next setup a colormap for our map\n",
        "colors = dict((\n",
        "    (0, (0, 0, 0, 255)),  # Nodata\n",
        "    (1, (160, 82, 45, 255)),  # bare land\n",
        "    (2, (0,150, 0, 255)),  # crop land\n",
        "    (3, (250, 0, 0, 255)),  # buit up\n",
        "    (4, (0,150, 150, 255)),  # water body\n",
        "    (5, (250, 0, 150, 255))  # Road\n",
        "))\n",
        "# Put 0 - 255 as float 0 - 1\n",
        "for k in colors:\n",
        "    v = colors[k]\n",
        "    _v = [_v / 255.0 for _v in v]\n",
        "    colors[k] = _v\n",
        "\n",
        "\n",
        "index_colors = [colors[key] if key in colors else\n",
        "                (255, 255, 255, 0) for key in range(1, n+1)]\n",
        "cmap = plt.matplotlib.colors.ListedColormap((index_colors), n)\n",
        "\n",
        "# Now show the classmap next to the image\n",
        "\n",
        "#plt.subplot(121)\n",
        "#plt.imshow(img543)\n",
        "\n",
        "plt.subplot(121)\n",
        "plt.imshow(class_prediction, cmap=cmap, interpolation='none')\n",
        "plt.show()\n",
        "\n",
        "#plt.subplot(122)\n",
        "#plt.imshow(img)\n",
        "#plt.show()\n"
      ],
      "execution_count": null,
      "outputs": [
        {
          "output_type": "display_data",
          "data": {
            "image/png": "[encoded data removed]",
            "text/plain": [
              "<Figure size 432x288 with 1 Axes>"
            ]
          },
          "metadata": {
            "tags": []
          }
        }
      ]
    },
    {
      "cell_type": "code",
      "metadata": {
        "id": "zyEcXui5bjGa",
        "outputId": "ef6906fd-0971-4098-8f10-675820d928fc",
        "colab": {
          "base_uri": "https://localhost:8080/",
          "height": 336
        }
      },
      "source": [
        "import matplotlib.patches as mpatches\n",
        "import matplotlib.pyplot as plt\n",
        "\n",
        "red_patch = mpatches.Patch(color='red', label='Built-up')\n",
        "Green_patch = mpatches.Patch(color='g', label='Crop Area')\n",
        "blue_patch = mpatches.Patch(color='turquoise', label='Water Body')\n",
        "brown_patch = mpatches.Patch(color='peru', label='Bare Land')\n",
        "pink_patch = mpatches.Patch(color='magenta', label='Road')\n",
        "plt.legend(handles=[red_patch,Green_patch,brown_patch,blue_patch,pink_patch])\n",
        "ax=plt.subplot(111)\n",
        "box = ax.get_position()\n",
        "ax.set_position([box.x0, box.y0, box.width * 0.8, box.height])\n",
        "\n",
        "# Put a legend to the right of the current axis\n",
        "ax.legend(loc='center left', bbox_to_anchor=(1, 0.5),handles=[red_patch,Green_patch,brown_patch,blue_patch,pink_patch])\n",
        "\n",
        "plt.title(\"SVM\")\n",
        "plt.imshow(class_prediction, cmap=cmap, interpolation='none')\n",
        "plt.show()"
      ],
      "execution_count": null,
      "outputs": [
        {
          "output_type": "stream",
          "text": [
            "/usr/local/lib/python3.6/dist-packages/ipykernel_launcher.py:10: MatplotlibDeprecationWarning: Adding an axes using the same arguments as a previous axes currently reuses the earlier instance.  In a future version, a new instance will always be created and returned.  Meanwhile, this warning can be suppressed, and the future behavior ensured, by passing a unique label to each axes instance.\n",
            "  # Remove the CWD from sys.path while we load stuff.\n"
          ],
          "name": "stderr"
        },
        {
          "output_type": "display_data",
          "data": {
            "image/png": "[encoded data removed]",
            "text/plain": [
              "<Figure size 432x288 with 1 Axes>"
            ]
          },
          "metadata": {
            "tags": []
          }
        }
      ]
    },
    {
      "cell_type": "code",
      "metadata": {
        "id": "fJXou6fidNuB",
        "outputId": "9327b76d-7aa5-4d6d-bfad-fc2d5b9c2c12",
        "colab": {
          "base_uri": "https://localhost:8080/",
          "height": 372
        }
      },
      "source": [
        "svm.score(,class_prediction)"
      ],
      "execution_count": null,
      "outputs": [
        {
          "output_type": "error",
          "ename": "ValueError",
          "evalue": "ignored",
          "traceback": [
            "\u001b[0;31m---------------------------------------------------------------------------\u001b[0m",
            "\u001b[0;31mValueError\u001b[0m                                Traceback (most recent call last)",
            "\u001b[0;32m<ipython-input-66-7dabcc72cf55>\u001b[0m in \u001b[0;36m<module>\u001b[0;34m()\u001b[0m\n\u001b[0;32m----> 1\u001b[0;31m \u001b[0msvm\u001b[0m\u001b[0;34m.\u001b[0m\u001b[0mscore\u001b[0m\u001b[0;34m(\u001b[0m\u001b[0my\u001b[0m\u001b[0;34m,\u001b[0m\u001b[0mclass_prediction\u001b[0m\u001b[0;34m)\u001b[0m\u001b[0;34m\u001b[0m\u001b[0;34m\u001b[0m\u001b[0m\n\u001b[0m",
            "\u001b[0;32m/usr/local/lib/python3.6/dist-packages/sklearn/base.py\u001b[0m in \u001b[0;36mscore\u001b[0;34m(self, X, y, sample_weight)\u001b[0m\n\u001b[1;32m    355\u001b[0m         \"\"\"\n\u001b[1;32m    356\u001b[0m         \u001b[0;32mfrom\u001b[0m \u001b[0;34m.\u001b[0m\u001b[0mmetrics\u001b[0m \u001b[0;32mimport\u001b[0m \u001b[0maccuracy_score\u001b[0m\u001b[0;34m\u001b[0m\u001b[0;34m\u001b[0m\u001b[0m\n\u001b[0;32m--> 357\u001b[0;31m         \u001b[0;32mreturn\u001b[0m \u001b[0maccuracy_score\u001b[0m\u001b[0;34m(\u001b[0m\u001b[0my\u001b[0m\u001b[0;34m,\u001b[0m \u001b[0mself\u001b[0m\u001b[0;34m.\u001b[0m\u001b[0mpredict\u001b[0m\u001b[0;34m(\u001b[0m\u001b[0mX\u001b[0m\u001b[0;34m)\u001b[0m\u001b[0;34m,\u001b[0m \u001b[0msample_weight\u001b[0m\u001b[0;34m=\u001b[0m\u001b[0msample_weight\u001b[0m\u001b[0;34m)\u001b[0m\u001b[0;34m\u001b[0m\u001b[0;34m\u001b[0m\u001b[0m\n\u001b[0m\u001b[1;32m    358\u001b[0m \u001b[0;34m\u001b[0m\u001b[0m\n\u001b[1;32m    359\u001b[0m \u001b[0;34m\u001b[0m\u001b[0m\n",
            "\u001b[0;32m/usr/local/lib/python3.6/dist-packages/sklearn/svm/base.py\u001b[0m in \u001b[0;36mpredict\u001b[0;34m(self, X)\u001b[0m\n\u001b[1;32m    572\u001b[0m             \u001b[0mClass\u001b[0m \u001b[0mlabels\u001b[0m \u001b[0;32mfor\u001b[0m \u001b[0msamples\u001b[0m \u001b[0;32min\u001b[0m \u001b[0mX\u001b[0m\u001b[0;34m.\u001b[0m\u001b[0;34m\u001b[0m\u001b[0;34m\u001b[0m\u001b[0m\n\u001b[1;32m    573\u001b[0m         \"\"\"\n\u001b[0;32m--> 574\u001b[0;31m         \u001b[0my\u001b[0m \u001b[0;34m=\u001b[0m \u001b[0msuper\u001b[0m\u001b[0;34m(\u001b[0m\u001b[0;34m)\u001b[0m\u001b[0;34m.\u001b[0m\u001b[0mpredict\u001b[0m\u001b[0;34m(\u001b[0m\u001b[0mX\u001b[0m\u001b[0;34m)\u001b[0m\u001b[0;34m\u001b[0m\u001b[0;34m\u001b[0m\u001b[0m\n\u001b[0m\u001b[1;32m    575\u001b[0m         \u001b[0;32mreturn\u001b[0m \u001b[0mself\u001b[0m\u001b[0;34m.\u001b[0m\u001b[0mclasses_\u001b[0m\u001b[0;34m.\u001b[0m\u001b[0mtake\u001b[0m\u001b[0;34m(\u001b[0m\u001b[0mnp\u001b[0m\u001b[0;34m.\u001b[0m\u001b[0masarray\u001b[0m\u001b[0;34m(\u001b[0m\u001b[0my\u001b[0m\u001b[0;34m,\u001b[0m \u001b[0mdtype\u001b[0m\u001b[0;34m=\u001b[0m\u001b[0mnp\u001b[0m\u001b[0;34m.\u001b[0m\u001b[0mintp\u001b[0m\u001b[0;34m)\u001b[0m\u001b[0;34m)\u001b[0m\u001b[0;34m\u001b[0m\u001b[0;34m\u001b[0m\u001b[0m\n\u001b[1;32m    576\u001b[0m \u001b[0;34m\u001b[0m\u001b[0m\n",
            "\u001b[0;32m/usr/local/lib/python3.6/dist-packages/sklearn/svm/base.py\u001b[0m in \u001b[0;36mpredict\u001b[0;34m(self, X)\u001b[0m\n\u001b[1;32m    320\u001b[0m         \u001b[0my_pred\u001b[0m \u001b[0;34m:\u001b[0m \u001b[0marray\u001b[0m\u001b[0;34m,\u001b[0m \u001b[0mshape\u001b[0m \u001b[0;34m(\u001b[0m\u001b[0mn_samples\u001b[0m\u001b[0;34m,\u001b[0m\u001b[0;34m)\u001b[0m\u001b[0;34m\u001b[0m\u001b[0;34m\u001b[0m\u001b[0m\n\u001b[1;32m    321\u001b[0m         \"\"\"\n\u001b[0;32m--> 322\u001b[0;31m         \u001b[0mX\u001b[0m \u001b[0;34m=\u001b[0m \u001b[0mself\u001b[0m\u001b[0;34m.\u001b[0m\u001b[0m_validate_for_predict\u001b[0m\u001b[0;34m(\u001b[0m\u001b[0mX\u001b[0m\u001b[0;34m)\u001b[0m\u001b[0;34m\u001b[0m\u001b[0;34m\u001b[0m\u001b[0m\n\u001b[0m\u001b[1;32m    323\u001b[0m         \u001b[0mpredict\u001b[0m \u001b[0;34m=\u001b[0m \u001b[0mself\u001b[0m\u001b[0;34m.\u001b[0m\u001b[0m_sparse_predict\u001b[0m \u001b[0;32mif\u001b[0m \u001b[0mself\u001b[0m\u001b[0;34m.\u001b[0m\u001b[0m_sparse\u001b[0m \u001b[0;32melse\u001b[0m \u001b[0mself\u001b[0m\u001b[0;34m.\u001b[0m\u001b[0m_dense_predict\u001b[0m\u001b[0;34m\u001b[0m\u001b[0;34m\u001b[0m\u001b[0m\n\u001b[1;32m    324\u001b[0m         \u001b[0;32mreturn\u001b[0m \u001b[0mpredict\u001b[0m\u001b[0;34m(\u001b[0m\u001b[0mX\u001b[0m\u001b[0;34m)\u001b[0m\u001b[0;34m\u001b[0m\u001b[0;34m\u001b[0m\u001b[0m\n",
            "\u001b[0;32m/usr/local/lib/python3.6/dist-packages/sklearn/svm/base.py\u001b[0m in \u001b[0;36m_validate_for_predict\u001b[0;34m(self, X)\u001b[0m\n\u001b[1;32m    452\u001b[0m \u001b[0;34m\u001b[0m\u001b[0m\n\u001b[1;32m    453\u001b[0m         X = check_array(X, accept_sparse='csr', dtype=np.float64, order=\"C\",\n\u001b[0;32m--> 454\u001b[0;31m                         accept_large_sparse=False)\n\u001b[0m\u001b[1;32m    455\u001b[0m         \u001b[0;32mif\u001b[0m \u001b[0mself\u001b[0m\u001b[0;34m.\u001b[0m\u001b[0m_sparse\u001b[0m \u001b[0;32mand\u001b[0m \u001b[0;32mnot\u001b[0m \u001b[0msp\u001b[0m\u001b[0;34m.\u001b[0m\u001b[0misspmatrix\u001b[0m\u001b[0;34m(\u001b[0m\u001b[0mX\u001b[0m\u001b[0;34m)\u001b[0m\u001b[0;34m:\u001b[0m\u001b[0;34m\u001b[0m\u001b[0;34m\u001b[0m\u001b[0m\n\u001b[1;32m    456\u001b[0m             \u001b[0mX\u001b[0m \u001b[0;34m=\u001b[0m \u001b[0msp\u001b[0m\u001b[0;34m.\u001b[0m\u001b[0mcsr_matrix\u001b[0m\u001b[0;34m(\u001b[0m\u001b[0mX\u001b[0m\u001b[0;34m)\u001b[0m\u001b[0;34m\u001b[0m\u001b[0;34m\u001b[0m\u001b[0m\n",
            "\u001b[0;32m/usr/local/lib/python3.6/dist-packages/sklearn/utils/validation.py\u001b[0m in \u001b[0;36mcheck_array\u001b[0;34m(array, accept_sparse, accept_large_sparse, dtype, order, copy, force_all_finite, ensure_2d, allow_nd, ensure_min_samples, ensure_min_features, warn_on_dtype, estimator)\u001b[0m\n\u001b[1;32m    519\u001b[0m                     \u001b[0;34m\"Reshape your data either using array.reshape(-1, 1) if \"\u001b[0m\u001b[0;34m\u001b[0m\u001b[0;34m\u001b[0m\u001b[0m\n\u001b[1;32m    520\u001b[0m                     \u001b[0;34m\"your data has a single feature or array.reshape(1, -1) \"\u001b[0m\u001b[0;34m\u001b[0m\u001b[0;34m\u001b[0m\u001b[0m\n\u001b[0;32m--> 521\u001b[0;31m                     \"if it contains a single sample.\".format(array))\n\u001b[0m\u001b[1;32m    522\u001b[0m \u001b[0;34m\u001b[0m\u001b[0m\n\u001b[1;32m    523\u001b[0m         \u001b[0;31m# in the future np.flexible dtypes will be handled like object dtypes\u001b[0m\u001b[0;34m\u001b[0m\u001b[0;34m\u001b[0m\u001b[0;34m\u001b[0m\u001b[0m\n",
            "\u001b[0;31mValueError\u001b[0m: Expected 2D array, got 1D array instead:\narray=[1. 1. 1. ... 3. 3. 3.].\nReshape your data either using array.reshape(-1, 1) if your data has a single feature or array.reshape(1, -1) if it contains a single sample."
          ]
        }
      ]
    },
    {
      "cell_type": "code",
      "metadata": {
        "id": "2LhogwV8dhvr",
        "outputId": "abe3d403-b216-407a-ac9a-189bb119b89b",
        "colab": {
          "base_uri": "https://localhost:8080/",
          "height": 123
        }
      },
      "source": [
        "from sklearn.tree import DecisionTreeClassifier\n",
        "clf_gini = DecisionTreeClassifier(criterion = \"gini\",\n",
        "            random_state = 100,max_depth=3, min_samples_leaf=5)\n",
        "\n",
        "    # Performing training\n",
        "clf_gini.fit(X,y)"
      ],
      "execution_count": null,
      "outputs": [
        {
          "output_type": "execute_result",
          "data": {
            "text/plain": [
              "DecisionTreeClassifier(class_weight=None, criterion='gini', max_depth=3,\n",
              "                       max_features=None, max_leaf_nodes=None,\n",
              "                       min_impurity_decrease=0.0, min_impurity_split=None,\n",
              "                       min_samples_leaf=5, min_samples_split=2,\n",
              "                       min_weight_fraction_leaf=0.0, presort=False,\n",
              "                       random_state=100, splitter='best')"
            ]
          },
          "metadata": {
            "tags": []
          },
          "execution_count": 68
        }
      ]
    },
    {
      "cell_type": "code",
      "metadata": {
        "id": "3UydZZW9oRS7",
        "outputId": "afd37fec-1476-46d8-da82-f8981051822c",
        "colab": {
          "base_uri": "https://localhost:8080/",
          "height": 158
        }
      },
      "source": [
        "import pandas as pd\n",
        "\n",
        "# Setup a dataframe -- just like R\n",
        "df = pd.DataFrame()\n",
        "df['truth'] = y\n",
        "df['predict'] = clf_gini.predict(X)\n",
        "\n",
        "# Cross-tabulate predictions\n",
        "print(pd.crosstab(df['truth'], df['predict'], margins=True))"
      ],
      "execution_count": null,
      "outputs": [
        {
          "output_type": "stream",
          "text": [
            "predict     1    2    3    4   All\n",
            "truth                             \n",
            "1        1075   13   17    0  1105\n",
            "2          41  531    0    0   572\n",
            "3         270    2  337    0   609\n",
            "4           0    0    0  151   151\n",
            "5          57    8   10    0    75\n",
            "All      1443  554  364  151  2512\n"
          ],
          "name": "stdout"
        }
      ]
    },
    {
      "cell_type": "code",
      "metadata": {
        "id": "NxDgIH1ZjSFw",
        "outputId": "9c88870e-2130-43fd-9635-ef29fe782568",
        "colab": {
          "base_uri": "https://localhost:8080/",
          "height": 34
        }
      },
      "source": [
        "# Take our full image, ignore the Fmask band, and reshape into long 2d array (nrow * ncol, nband) for classification\n",
        "new_shape = (img.shape[0] * img.shape[1], img.shape[2] )\n",
        "\n",
        "img_as_array = img[:, :, :3].reshape(new_shape)\n",
        "print('Reshaped from {o} to {n}'.format(o=img.shape,\n",
        "                                        n=img_as_array.shape))\n",
        "\n",
        "# Now predict for each pixel\n",
        "class_prediction = clf_gini.predict(img_as_array)\n",
        "\n",
        "# Reshape our classification map\n",
        "class_prediction = class_prediction.reshape(img[:, :, 0].shape)"
      ],
      "execution_count": null,
      "outputs": [
        {
          "output_type": "stream",
          "text": [
            "Reshaped from (445, 482, 3) to (214490, 3)\n"
          ],
          "name": "stdout"
        }
      ]
    },
    {
      "cell_type": "code",
      "metadata": {
        "id": "UJpYuB9fjiTu",
        "outputId": "02e73485-e22a-430a-d20a-f59435d202fb",
        "colab": {
          "base_uri": "https://localhost:8080/",
          "height": 192
        }
      },
      "source": [
        "# Visualize\n",
        "\n",
        "# First setup a 5-4-3 composite\n",
        "def color_stretch(image, index, minmax=(0, 10000)):\n",
        "    colors = image[:, :, index].astype(np.float64)\n",
        "\n",
        "    max_val = minmax[1]\n",
        "    min_val = minmax[0]\n",
        "    #print('---',colors[:,:,:],'---')\n",
        "    # Enforce maximum and minimum values\n",
        "    colors[colors[:, :, :] >= max_val] = 255\n",
        "    colors[colors[:, :, :] < min_val] = 0\n",
        "    print(colors,'--->')\n",
        "    for b in range(colors.shape[2]):#[0,1,2]\n",
        "        colors[:, :, b] = colors[:, :, b] * 1 / 255\n",
        "\n",
        "    return colors\n",
        "\n",
        "#img543 = color_stretch(img, [0,1,2], (111,111))\n",
        "\n",
        "# See https://github.com/matplotlib/matplotlib/issues/844/\n",
        "n = class_prediction.max()\n",
        "# Next setup a colormap for our map\n",
        "colors = dict((\n",
        "    (0, (0, 0, 0, 255)),  # Nodata\n",
        "    (1, (160, 82, 45, 255)),  # bare land\n",
        "    (2, (0,150, 0, 255)),  # crop land\n",
        "    (3, (250, 0, 0, 255)),  # buit up\n",
        "    (4, (0,150, 150, 255)),  # water body\n",
        "    (5, (250, 0, 150, 255))  # Road\n",
        "))\n",
        "# Put 0 - 255 as float 0 - 1\n",
        "for k in colors:\n",
        "    v = colors[k]\n",
        "    _v = [_v / 255.0 for _v in v]\n",
        "    colors[k] = _v\n",
        "\n",
        "\n",
        "index_colors = [colors[key] if key in colors else\n",
        "                (255, 255, 255, 0) for key in range(1, n+1)]\n",
        "cmap = plt.matplotlib.colors.ListedColormap((index_colors), n)\n",
        "\n",
        "# Now show the classmap next to the image\n",
        "\n",
        "#plt.subplot(121)\n",
        "#plt.imshow(img543)\n",
        "\n",
        "plt.subplot(121)\n",
        "plt.imshow(class_prediction, cmap=cmap, interpolation='none')\n",
        "plt.show()\n",
        "\n",
        "#plt.subplot(122)\n",
        "#plt.imshow(img)\n",
        "#plt.show()\n"
      ],
      "execution_count": null,
      "outputs": [
        {
          "output_type": "display_data",
          "data": {
            "image/png": "[encoded data removed]",
            "text/plain": [
              "<Figure size 432x288 with 1 Axes>"
            ]
          },
          "metadata": {
            "tags": []
          }
        }
      ]
    },
    {
      "cell_type": "code",
      "metadata": {
        "id": "PBh_2tuejorR",
        "outputId": "ff5ad6e5-f91f-43fa-9f9a-cb59f94e8567",
        "colab": {
          "base_uri": "https://localhost:8080/",
          "height": 336
        }
      },
      "source": [
        "import matplotlib.patches as mpatches\n",
        "import matplotlib.pyplot as plt\n",
        "\n",
        "red_patch = mpatches.Patch(color='red', label='Built-up')\n",
        "Green_patch = mpatches.Patch(color='g', label='Crop Area')\n",
        "blue_patch = mpatches.Patch(color='turquoise', label='Water Body')\n",
        "brown_patch = mpatches.Patch(color='peru', label='Bare Land')\n",
        "pink_patch = mpatches.Patch(color='magenta', label='Road')\n",
        "plt.legend(handles=[red_patch,Green_patch,brown_patch,blue_patch,pink_patch])\n",
        "ax=plt.subplot(111)\n",
        "box = ax.get_position()\n",
        "ax.set_position([box.x0, box.y0, box.width * 0.8, box.height])\n",
        "\n",
        "# Put a legend to the right of the current axis\n",
        "ax.legend(loc='center left', bbox_to_anchor=(1, 0.5),handles=[red_patch,Green_patch,brown_patch,blue_patch,pink_patch])\n",
        "\n",
        "plt.title(\"Decision tree (Cart)\")\n",
        "plt.imshow(class_prediction, cmap=cmap, interpolation='none')\n",
        "plt.show()"
      ],
      "execution_count": null,
      "outputs": [
        {
          "output_type": "stream",
          "text": [
            "/usr/local/lib/python3.6/dist-packages/ipykernel_launcher.py:10: MatplotlibDeprecationWarning: Adding an axes using the same arguments as a previous axes currently reuses the earlier instance.  In a future version, a new instance will always be created and returned.  Meanwhile, this warning can be suppressed, and the future behavior ensured, by passing a unique label to each axes instance.\n",
            "  # Remove the CWD from sys.path while we load stuff.\n"
          ],
          "name": "stderr"
        },
        {
          "output_type": "display_data",
          "data": {
            "image/png": "[encoded data removed]",
            "text/plain": [
              "<Figure size 432x288 with 1 Axes>"
            ]
          },
          "metadata": {
            "tags": []
          }
        }
      ]
    },
    {
      "cell_type": "code",
      "metadata": {
        "id": "_dGT-JxBj25w",
        "outputId": "93a5fb00-972b-4652-8a99-07afb86ff7fa",
        "colab": {
          "base_uri": "https://localhost:8080/",
          "height": 34
        }
      },
      "source": [
        "from sklearn.naive_bayes import GaussianNB\n",
        "gnb = GaussianNB()\n",
        "gnb.fit(X,y)\n",
        ""
      ],
      "execution_count": null,
      "outputs": [
        {
          "output_type": "execute_result",
          "data": {
            "text/plain": [
              "GaussianNB(priors=None, var_smoothing=1e-09)"
            ]
          },
          "metadata": {
            "tags": []
          },
          "execution_count": 75
        }
      ]
    },
    {
      "cell_type": "code",
      "metadata": {
        "id": "e1gDbUhakY5t",
        "outputId": "1f3c37f2-2846-4982-fd78-6df514447c83",
        "colab": {
          "base_uri": "https://localhost:8080/",
          "height": 158
        }
      },
      "source": [
        "import pandas as pd\n",
        "\n",
        "# Setup a dataframe -- just like R\n",
        "df = pd.DataFrame()\n",
        "df['truth'] = y\n",
        "df['predict'] = gnb.predict(X)\n",
        "\n",
        "# Cross-tabulate predictions\n",
        "print(pd.crosstab(df['truth'], df['predict'], margins=True))"
      ],
      "execution_count": null,
      "outputs": [
        {
          "output_type": "stream",
          "text": [
            "predict     1    2    3    4    5   All\n",
            "truth                                  \n",
            "1         895   42  110    0   58  1105\n",
            "2          27  545    0    0    0   572\n",
            "3         223    5  372    0    9   609\n",
            "4           0    1    0  150    0   151\n",
            "5          10   12    7    0   46    75\n",
            "All      1155  605  489  150  113  2512\n"
          ],
          "name": "stdout"
        }
      ]
    },
    {
      "cell_type": "code",
      "metadata": {
        "id": "ivF0_SkUkg52",
        "outputId": "5f8f8c84-63b1-4f37-a978-fdfcc4a8a153",
        "colab": {
          "base_uri": "https://localhost:8080/",
          "height": 34
        }
      },
      "source": [
        "# Take our full image, ignore the Fmask band, and reshape into long 2d array (nrow * ncol, nband) for classification\n",
        "new_shape = (img.shape[0] * img.shape[1], img.shape[2] )\n",
        "\n",
        "img_as_array = img[:, :, :3].reshape(new_shape)\n",
        "print('Reshaped from {o} to {n}'.format(o=img.shape,\n",
        "                                        n=img_as_array.shape))\n",
        "\n",
        "# Now predict for each pixel\n",
        "class_prediction = gnb.predict(img_as_array)\n",
        "\n",
        "# Reshape our classification map\n",
        "class_prediction = class_prediction.reshape(img[:, :, 0].shape)"
      ],
      "execution_count": null,
      "outputs": [
        {
          "output_type": "stream",
          "text": [
            "Reshaped from (445, 482, 3) to (214490, 3)\n"
          ],
          "name": "stdout"
        }
      ]
    },
    {
      "cell_type": "code",
      "metadata": {
        "id": "tzuouDRAkoOV",
        "outputId": "922a86ae-2dd3-4147-f9db-a281dcc28e1f",
        "colab": {
          "base_uri": "https://localhost:8080/",
          "height": 192
        }
      },
      "source": [
        "# Visualize\n",
        "\n",
        "# First setup a 5-4-3 composite\n",
        "def color_stretch(image, index, minmax=(0, 10000)):\n",
        "    colors = image[:, :, index].astype(np.float64)\n",
        "\n",
        "    max_val = minmax[1]\n",
        "    min_val = minmax[0]\n",
        "    #print('---',colors[:,:,:],'---')\n",
        "    # Enforce maximum and minimum values\n",
        "    colors[colors[:, :, :] >= max_val] = 255\n",
        "    colors[colors[:, :, :] < min_val] = 0\n",
        "    print(colors,'--->')\n",
        "    for b in range(colors.shape[2]):#[0,1,2]\n",
        "        colors[:, :, b] = colors[:, :, b] * 1 / 255\n",
        "\n",
        "    return colors\n",
        "\n",
        "#img543 = color_stretch(img, [0,1,2], (111,111))\n",
        "\n",
        "# See https://github.com/matplotlib/matplotlib/issues/844/\n",
        "n = class_prediction.max()\n",
        "# Next setup a colormap for our map\n",
        "colors = dict((\n",
        "    (0, (0, 0, 0, 255)),  # Nodata\n",
        "    (1, (160, 82, 45, 255)),  # bare land\n",
        "    (2, (0,150, 0, 255)),  # crop land\n",
        "    (3, (250, 0, 0, 255)),  # buit up\n",
        "    (4, (0,150, 150, 255)),  # water body\n",
        "    (5, (250, 0, 150, 255))  # Road\n",
        "))\n",
        "# Put 0 - 255 as float 0 - 1\n",
        "for k in colors:\n",
        "    v = colors[k]\n",
        "    _v = [_v / 255.0 for _v in v]\n",
        "    colors[k] = _v\n",
        "\n",
        "\n",
        "index_colors = [colors[key] if key in colors else\n",
        "                (255, 255, 255, 0) for key in range(1, n+1)]\n",
        "cmap = plt.matplotlib.colors.ListedColormap((index_colors), n)\n",
        "\n",
        "# Now show the classmap next to the image\n",
        "\n",
        "#plt.subplot(121)\n",
        "#plt.imshow(img543)\n",
        "\n",
        "plt.subplot(121)\n",
        "plt.imshow(class_prediction, cmap=cmap, interpolation='none')\n",
        "plt.show()\n",
        "\n",
        "#plt.subplot(122)\n",
        "#plt.imshow(img)\n",
        "#plt.show()\n"
      ],
      "execution_count": null,
      "outputs": [
        {
          "output_type": "display_data",
          "data": {
            "image/png": "[encoded data removed]",
            "text/plain": [
              "<Figure size 432x288 with 1 Axes>"
            ]
          },
          "metadata": {
            "tags": []
          }
        }
      ]
    },
    {
      "cell_type": "code",
      "metadata": {
        "id": "GuaM6-nOkt7K",
        "outputId": "979ea10a-d8ab-4702-ed59-431b3dd3778e",
        "colab": {
          "base_uri": "https://localhost:8080/",
          "height": 336
        }
      },
      "source": [
        "import matplotlib.patches as mpatches\n",
        "import matplotlib.pyplot as plt\n",
        "\n",
        "red_patch = mpatches.Patch(color='red', label='Built-up')\n",
        "Green_patch = mpatches.Patch(color='g', label='Crop Area')\n",
        "blue_patch = mpatches.Patch(color='turquoise', label='Water Body')\n",
        "brown_patch = mpatches.Patch(color='peru', label='Bare Land')\n",
        "pink_patch = mpatches.Patch(color='magenta', label='Road')\n",
        "plt.legend(handles=[red_patch,Green_patch,brown_patch,blue_patch,pink_patch])\n",
        "ax=plt.subplot(111)\n",
        "box = ax.get_position()\n",
        "ax.set_position([box.x0, box.y0, box.width * 0.8, box.height])\n",
        "\n",
        "# Put a legend to the right of the current axis\n",
        "ax.legend(loc='center left', bbox_to_anchor=(1, 0.5),handles=[red_patch,Green_patch,brown_patch,blue_patch,pink_patch])\n",
        "\n",
        "plt.title(\"Naive Bayes\")\n",
        "plt.imshow(class_prediction, cmap=cmap, interpolation='none')\n",
        "plt.show()"
      ],
      "execution_count": null,
      "outputs": [
        {
          "output_type": "stream",
          "text": [
            "/usr/local/lib/python3.6/dist-packages/ipykernel_launcher.py:10: MatplotlibDeprecationWarning: Adding an axes using the same arguments as a previous axes currently reuses the earlier instance.  In a future version, a new instance will always be created and returned.  Meanwhile, this warning can be suppressed, and the future behavior ensured, by passing a unique label to each axes instance.\n",
            "  # Remove the CWD from sys.path while we load stuff.\n"
          ],
          "name": "stderr"
        },
        {
          "output_type": "display_data",
          "data": {
            "image/png": "[encoded data removed]",
            "text/plain": [
              "<Figure size 432x288 with 1 Axes>"
            ]
          },
          "metadata": {
            "tags": []
          }
        }
      ]
    },
    {
      "cell_type": "code",
      "metadata": {
        "id": "yFeUoTEYk3M2"
      },
      "source": [],
      "execution_count": null,
      "outputs": []
    }
  ]
}